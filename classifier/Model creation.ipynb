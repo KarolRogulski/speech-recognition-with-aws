{
 "cells": [
  {
   "cell_type": "code",
   "execution_count": 1,
   "id": "77da72c3",
   "metadata": {},
   "outputs": [],
   "source": [
    "import json\n",
    "import os\n",
    "import numpy as np"
   ]
  },
  {
   "cell_type": "code",
   "execution_count": 2,
   "id": "5ec31119",
   "metadata": {},
   "outputs": [],
   "source": [
    "os.environ['TF_XLA_FLAGS'] = '--tf_xla_enable_xla_devices'"
   ]
  },
  {
   "cell_type": "code",
   "execution_count": 3,
   "id": "17bd6210",
   "metadata": {},
   "outputs": [],
   "source": [
    "DATA_PATH = 'data.json'"
   ]
  },
  {
   "cell_type": "markdown",
   "id": "18f5b008",
   "metadata": {},
   "source": [
    "## Data split"
   ]
  },
  {
   "cell_type": "code",
   "execution_count": 4,
   "id": "2b624133",
   "metadata": {},
   "outputs": [],
   "source": [
    "with open(DATA_PATH) as f:\n",
    "    data = json.load(f)"
   ]
  },
  {
   "cell_type": "code",
   "execution_count": 5,
   "id": "a8ff9b01",
   "metadata": {},
   "outputs": [],
   "source": [
    "X = np.array(data['MFCCs'])\n",
    "y = np.array(data['labels'])"
   ]
  },
  {
   "cell_type": "code",
   "execution_count": 6,
   "id": "0f2dec83",
   "metadata": {},
   "outputs": [],
   "source": [
    "from sklearn.model_selection import train_test_split\n",
    "\n",
    "test_size = 0.1\n",
    "val_size = 0.1\n",
    "\n",
    "X_train, X_test, y_train, y_test = train_test_split(X, y, test_size = test_size)\n",
    "X_train, X_val, y_train, y_val = train_test_split(X_train, y_train, test_size = val_size)"
   ]
  },
  {
   "cell_type": "code",
   "execution_count": 7,
   "id": "a9323637",
   "metadata": {},
   "outputs": [],
   "source": [
    "# convert from 2D to 3D\n",
    "X_train = X_train[..., np.newaxis]\n",
    "X_val = X_val[..., np.newaxis]\n",
    "X_test = X_test[..., np.newaxis]"
   ]
  },
  {
   "cell_type": "markdown",
   "id": "57bbfe49",
   "metadata": {},
   "source": [
    "## Build model"
   ]
  },
  {
   "cell_type": "code",
   "execution_count": 8,
   "id": "9a1b1658",
   "metadata": {},
   "outputs": [],
   "source": [
    "import tensorflow.keras as keras\n",
    "\n",
    "input_shape=(X_train.shape[1], X_train.shape[2], X_train.shape[3]) # segments, coefficients(13), 1"
   ]
  },
  {
   "cell_type": "code",
   "execution_count": 9,
   "id": "c9cc79f1",
   "metadata": {},
   "outputs": [
    {
     "name": "stderr",
     "output_type": "stream",
     "text": [
      "2022-05-31 20:29:46.781886: I tensorflow/core/platform/cpu_feature_guard.cc:142] This TensorFlow binary is optimized with oneAPI Deep Neural Network Library (oneDNN) to use the following CPU instructions in performance-critical operations:  SSE4.1 SSE4.2 AVX AVX2 FMA\n",
      "To enable them in other operations, rebuild TensorFlow with the appropriate compiler flags.\n",
      "2022-05-31 20:29:46.815543: I tensorflow/core/platform/profile_utils/cpu_utils.cc:112] CPU Frequency: 2295700000 Hz\n",
      "2022-05-31 20:29:46.815989: I tensorflow/compiler/xla/service/service.cc:168] XLA service 0x558171cb2c50 initialized for platform Host (this does not guarantee that XLA will be used). Devices:\n",
      "2022-05-31 20:29:46.816024: I tensorflow/compiler/xla/service/service.cc:176]   StreamExecutor device (0): Host, Default Version\n",
      "2022-05-31 20:29:46.817626: I tensorflow/core/common_runtime/process_util.cc:146] Creating new thread pool with default inter op setting: 2. Tune using inter_op_parallelism_threads for best performance.\n"
     ]
    }
   ],
   "source": [
    "l2_reg = 0.001\n",
    "n_classes = len(np.unique(y_train))\n",
    "\n",
    "model = keras.Sequential()\n",
    "\n",
    "# block 1\n",
    "model.add(keras.layers.Conv2D(64, (3,3), activation='relu', input_shape = input_shape, \n",
    "                              kernel_regularizer = keras.regularizers.l2(0.001)))\n",
    "model.add(keras.layers.BatchNormalization())\n",
    "model.add(keras.layers.MaxPool2D((3, 3), strides=(2,2), padding='same'))\n",
    "\n",
    "# block 2\n",
    "model.add(keras.layers.Conv2D(32, (3,3), activation='relu', padding='same',\n",
    "                             kernel_regularizer = keras.regularizers.l2(0.001)))\n",
    "model.add(keras.layers.BatchNormalization())\n",
    "model.add(keras.layers.MaxPool2D((3, 3), strides=(2,2), padding='same'))\n",
    "\n",
    "#block 3\n",
    "model.add(keras.layers.Conv2D(32, (3,3), activation='relu', \n",
    "                             kernel_regularizer = keras.regularizers.l2(0.001)))\n",
    "model.add(keras.layers.BatchNormalization())\n",
    "model.add(keras.layers.MaxPool2D((2, 2), strides=(2,2), padding='same'))\n",
    "\n",
    "model.add(keras.layers.Flatten())\n",
    "model.add(keras.layers.Dense(64, activation='relu'))\n",
    "model.add(keras.layers.Dropout(rate = 0.3))\n",
    "model.add(keras.layers.Dense(n_classes, activation='softmax'))"
   ]
  },
  {
   "cell_type": "code",
   "execution_count": 10,
   "id": "ef3f94fe",
   "metadata": {},
   "outputs": [],
   "source": [
    "lr = 0.0001\n",
    "\n",
    "model.compile(optimizer=keras.optimizers.Adam(learning_rate=lr),\n",
    "             loss = 'sparse_categorical_crossentropy',\n",
    "             metrics=['accuracy'])"
   ]
  },
  {
   "cell_type": "code",
   "execution_count": 11,
   "id": "1da42448",
   "metadata": {},
   "outputs": [
    {
     "name": "stdout",
     "output_type": "stream",
     "text": [
      "Model: \"sequential\"\n",
      "_________________________________________________________________\n",
      "Layer (type)                 Output Shape              Param #   \n",
      "=================================================================\n",
      "conv2d (Conv2D)              (None, 42, 11, 64)        640       \n",
      "_________________________________________________________________\n",
      "batch_normalization (BatchNo (None, 42, 11, 64)        256       \n",
      "_________________________________________________________________\n",
      "max_pooling2d (MaxPooling2D) (None, 21, 6, 64)         0         \n",
      "_________________________________________________________________\n",
      "conv2d_1 (Conv2D)            (None, 21, 6, 32)         18464     \n",
      "_________________________________________________________________\n",
      "batch_normalization_1 (Batch (None, 21, 6, 32)         128       \n",
      "_________________________________________________________________\n",
      "max_pooling2d_1 (MaxPooling2 (None, 11, 3, 32)         0         \n",
      "_________________________________________________________________\n",
      "conv2d_2 (Conv2D)            (None, 9, 1, 32)          9248      \n",
      "_________________________________________________________________\n",
      "batch_normalization_2 (Batch (None, 9, 1, 32)          128       \n",
      "_________________________________________________________________\n",
      "max_pooling2d_2 (MaxPooling2 (None, 5, 1, 32)          0         \n",
      "_________________________________________________________________\n",
      "flatten (Flatten)            (None, 160)               0         \n",
      "_________________________________________________________________\n",
      "dense (Dense)                (None, 64)                10304     \n",
      "_________________________________________________________________\n",
      "dropout (Dropout)            (None, 64)                0         \n",
      "_________________________________________________________________\n",
      "dense_1 (Dense)              (None, 30)                1950      \n",
      "=================================================================\n",
      "Total params: 41,118\n",
      "Trainable params: 40,862\n",
      "Non-trainable params: 256\n",
      "_________________________________________________________________\n"
     ]
    }
   ],
   "source": [
    "model.summary()"
   ]
  },
  {
   "cell_type": "code",
   "execution_count": 12,
   "id": "5f065e5c",
   "metadata": {},
   "outputs": [
    {
     "name": "stderr",
     "output_type": "stream",
     "text": [
      "2022-05-31 20:29:47.152655: I tensorflow/compiler/mlir/mlir_graph_optimization_pass.cc:116] None of the MLIR optimization passes are enabled (registered 2)\n"
     ]
    },
    {
     "name": "stdout",
     "output_type": "stream",
     "text": [
      "Epoch 1/50\n",
      "738/738 [==============================] - 41s 54ms/step - loss: 3.6230 - accuracy: 0.0647 - val_loss: 2.8156 - val_accuracy: 0.2659\n",
      "Epoch 2/50\n",
      "738/738 [==============================] - 47s 64ms/step - loss: 2.7404 - accuracy: 0.2501 - val_loss: 2.1537 - val_accuracy: 0.4587\n",
      "Epoch 3/50\n",
      "738/738 [==============================] - 50s 68ms/step - loss: 2.1631 - accuracy: 0.3990 - val_loss: 1.6397 - val_accuracy: 0.5855\n",
      "Epoch 4/50\n",
      "738/738 [==============================] - 49s 67ms/step - loss: 1.7536 - accuracy: 0.5117 - val_loss: 1.3130 - val_accuracy: 0.6742\n",
      "Epoch 5/50\n",
      "738/738 [==============================] - 53s 72ms/step - loss: 1.4660 - accuracy: 0.5909 - val_loss: 1.1202 - val_accuracy: 0.7118\n",
      "Epoch 6/50\n",
      "738/738 [==============================] - 48s 65ms/step - loss: 1.2430 - accuracy: 0.6581 - val_loss: 0.9969 - val_accuracy: 0.7513\n",
      "Epoch 7/50\n",
      "738/738 [==============================] - 45s 61ms/step - loss: 1.1016 - accuracy: 0.6966 - val_loss: 0.8788 - val_accuracy: 0.7801\n",
      "Epoch 8/50\n",
      "738/738 [==============================] - 47s 64ms/step - loss: 0.9970 - accuracy: 0.7267 - val_loss: 0.8404 - val_accuracy: 0.7822\n",
      "Epoch 9/50\n",
      "738/738 [==============================] - 43s 58ms/step - loss: 0.9060 - accuracy: 0.7519 - val_loss: 0.7575 - val_accuracy: 0.8053\n",
      "Epoch 10/50\n",
      "738/738 [==============================] - 53s 72ms/step - loss: 0.8419 - accuracy: 0.7712 - val_loss: 0.6750 - val_accuracy: 0.8373\n",
      "Epoch 11/50\n",
      "738/738 [==============================] - 44s 60ms/step - loss: 0.7766 - accuracy: 0.7938 - val_loss: 0.6496 - val_accuracy: 0.8362\n",
      "Epoch 12/50\n",
      "738/738 [==============================] - 41s 55ms/step - loss: 0.7296 - accuracy: 0.8065 - val_loss: 0.6740 - val_accuracy: 0.8291\n",
      "Epoch 13/50\n",
      "738/738 [==============================] - 49s 67ms/step - loss: 0.6983 - accuracy: 0.8147 - val_loss: 0.5811 - val_accuracy: 0.8520\n",
      "Epoch 14/50\n",
      "738/738 [==============================] - 48s 66ms/step - loss: 0.6532 - accuracy: 0.8300 - val_loss: 0.6115 - val_accuracy: 0.8413\n",
      "Epoch 15/50\n",
      "738/738 [==============================] - 51s 69ms/step - loss: 0.6354 - accuracy: 0.8340 - val_loss: 0.5342 - val_accuracy: 0.8657\n",
      "Epoch 16/50\n",
      "738/738 [==============================] - 44s 60ms/step - loss: 0.6130 - accuracy: 0.8421 - val_loss: 0.5758 - val_accuracy: 0.8537\n",
      "Epoch 17/50\n",
      "738/738 [==============================] - 41s 55ms/step - loss: 0.5828 - accuracy: 0.8481 - val_loss: 0.5258 - val_accuracy: 0.8661\n",
      "Epoch 18/50\n",
      "738/738 [==============================] - 51s 69ms/step - loss: 0.5581 - accuracy: 0.8545 - val_loss: 0.5435 - val_accuracy: 0.8610\n",
      "Epoch 19/50\n",
      "738/738 [==============================] - 47s 63ms/step - loss: 0.5469 - accuracy: 0.8574 - val_loss: 0.4766 - val_accuracy: 0.8817\n",
      "Epoch 20/50\n",
      "738/738 [==============================] - 52s 70ms/step - loss: 0.5289 - accuracy: 0.8616 - val_loss: 0.4869 - val_accuracy: 0.8783\n",
      "Epoch 21/50\n",
      "738/738 [==============================] - 52s 70ms/step - loss: 0.5098 - accuracy: 0.8683 - val_loss: 0.4782 - val_accuracy: 0.8808\n",
      "Epoch 22/50\n",
      "738/738 [==============================] - 51s 69ms/step - loss: 0.5022 - accuracy: 0.8725 - val_loss: 0.4833 - val_accuracy: 0.8772\n",
      "Epoch 23/50\n",
      "738/738 [==============================] - 56s 75ms/step - loss: 0.4863 - accuracy: 0.8748 - val_loss: 0.5359 - val_accuracy: 0.8591\n",
      "Epoch 24/50\n",
      "738/738 [==============================] - 43s 59ms/step - loss: 0.4765 - accuracy: 0.8784 - val_loss: 0.4565 - val_accuracy: 0.8858\n",
      "Epoch 25/50\n",
      "738/738 [==============================] - 42s 57ms/step - loss: 0.4675 - accuracy: 0.8797 - val_loss: 0.4549 - val_accuracy: 0.8865\n",
      "Epoch 26/50\n",
      "738/738 [==============================] - 51s 69ms/step - loss: 0.4533 - accuracy: 0.8857 - val_loss: 0.4650 - val_accuracy: 0.8844\n",
      "Epoch 27/50\n",
      "738/738 [==============================] - 55s 75ms/step - loss: 0.4486 - accuracy: 0.8869 - val_loss: 0.4340 - val_accuracy: 0.8913\n",
      "Epoch 28/50\n",
      "738/738 [==============================] - 49s 66ms/step - loss: 0.4370 - accuracy: 0.8900 - val_loss: 0.4190 - val_accuracy: 0.8974\n",
      "Epoch 29/50\n",
      "738/738 [==============================] - 46s 62ms/step - loss: 0.4360 - accuracy: 0.8892 - val_loss: 0.4139 - val_accuracy: 0.9002\n",
      "Epoch 30/50\n",
      "738/738 [==============================] - 50s 67ms/step - loss: 0.4192 - accuracy: 0.8948 - val_loss: 0.4421 - val_accuracy: 0.8888\n",
      "Epoch 31/50\n",
      "738/738 [==============================] - 53s 72ms/step - loss: 0.4121 - accuracy: 0.8944 - val_loss: 0.4371 - val_accuracy: 0.8880\n",
      "Epoch 32/50\n",
      "738/738 [==============================] - 57s 78ms/step - loss: 0.4161 - accuracy: 0.8950 - val_loss: 0.4170 - val_accuracy: 0.8947\n",
      "Epoch 33/50\n",
      "738/738 [==============================] - 48s 66ms/step - loss: 0.4058 - accuracy: 0.8985 - val_loss: 0.4323 - val_accuracy: 0.8917\n",
      "Epoch 34/50\n",
      "738/738 [==============================] - 48s 64ms/step - loss: 0.3901 - accuracy: 0.9003 - val_loss: 0.3939 - val_accuracy: 0.9008\n",
      "Epoch 35/50\n",
      "738/738 [==============================] - 39s 53ms/step - loss: 0.3893 - accuracy: 0.9003 - val_loss: 0.4117 - val_accuracy: 0.8955\n",
      "Epoch 36/50\n",
      "738/738 [==============================] - 42s 57ms/step - loss: 0.3785 - accuracy: 0.9044 - val_loss: 0.4690 - val_accuracy: 0.8859\n",
      "Epoch 37/50\n",
      "738/738 [==============================] - 44s 59ms/step - loss: 0.3784 - accuracy: 0.9064 - val_loss: 0.4722 - val_accuracy: 0.8785\n",
      "Epoch 38/50\n",
      "738/738 [==============================] - 43s 59ms/step - loss: 0.3775 - accuracy: 0.9049 - val_loss: 0.3991 - val_accuracy: 0.9002\n",
      "Epoch 39/50\n",
      "738/738 [==============================] - 45s 61ms/step - loss: 0.3736 - accuracy: 0.9050 - val_loss: 0.3956 - val_accuracy: 0.8966\n",
      "Epoch 40/50\n",
      "738/738 [==============================] - 43s 59ms/step - loss: 0.3596 - accuracy: 0.9097 - val_loss: 0.3860 - val_accuracy: 0.9012\n",
      "Epoch 41/50\n",
      "738/738 [==============================] - 46s 62ms/step - loss: 0.3637 - accuracy: 0.9073 - val_loss: 0.4028 - val_accuracy: 0.9004\n",
      "Epoch 42/50\n",
      "738/738 [==============================] - 46s 62ms/step - loss: 0.3592 - accuracy: 0.9096 - val_loss: 0.4466 - val_accuracy: 0.8884\n",
      "Epoch 43/50\n",
      "738/738 [==============================] - 48s 64ms/step - loss: 0.3440 - accuracy: 0.9161 - val_loss: 0.3825 - val_accuracy: 0.9052\n",
      "Epoch 44/50\n",
      "738/738 [==============================] - 44s 60ms/step - loss: 0.3474 - accuracy: 0.9128 - val_loss: 0.3846 - val_accuracy: 0.9018\n",
      "Epoch 45/50\n",
      "738/738 [==============================] - 45s 60ms/step - loss: 0.3390 - accuracy: 0.9161 - val_loss: 0.4012 - val_accuracy: 0.8987\n",
      "Epoch 46/50\n",
      "738/738 [==============================] - 44s 60ms/step - loss: 0.3385 - accuracy: 0.9138 - val_loss: 0.3951 - val_accuracy: 0.9001\n",
      "Epoch 47/50\n",
      "738/738 [==============================] - 47s 64ms/step - loss: 0.3321 - accuracy: 0.9160 - val_loss: 0.4088 - val_accuracy: 0.8970\n",
      "Epoch 48/50\n",
      "738/738 [==============================] - 46s 62ms/step - loss: 0.3297 - accuracy: 0.9181 - val_loss: 0.4218 - val_accuracy: 0.8934\n",
      "Epoch 49/50\n",
      "738/738 [==============================] - 45s 61ms/step - loss: 0.3288 - accuracy: 0.9193 - val_loss: 0.3742 - val_accuracy: 0.9096\n",
      "Epoch 50/50\n",
      "738/738 [==============================] - 45s 61ms/step - loss: 0.3234 - accuracy: 0.9191 - val_loss: 0.3949 - val_accuracy: 0.9048\n"
     ]
    }
   ],
   "source": [
    "batch_size = 64\n",
    "epochs = 50\n",
    "\n",
    "history = model.fit(X_train, y_train, epochs=epochs, batch_size=batch_size,\n",
    "         validation_data=(X_val, y_val))"
   ]
  },
  {
   "cell_type": "code",
   "execution_count": 13,
   "id": "ffa018bb",
   "metadata": {},
   "outputs": [
    {
     "data": {
      "image/png": "[encoded data removed]",
      "text/plain": [
       "<Figure size 432x288 with 1 Axes>"
      ]
     },
     "metadata": {
      "needs_background": "light"
     },
     "output_type": "display_data"
    }
   ],
   "source": [
    "import matplotlib.pyplot as plt\n",
    "# plot accuracy\n",
    "plt.plot(history.history['accuracy'])\n",
    "plt.plot(history.history['val_accuracy'])\n",
    "plt.title('model accuracy')\n",
    "plt.ylabel('accuracy')\n",
    "plt.xlabel('epoch')\n",
    "plt.legend(['train', 'test'], loc='upper left')\n",
    "plt.show()"
   ]
  },
  {
   "cell_type": "code",
   "execution_count": 14,
   "id": "f9a29466",
   "metadata": {},
   "outputs": [
    {
     "data": {
      "image/png": "[encoded data removed]",
      "text/plain": [
       "<Figure size 432x288 with 1 Axes>"
      ]
     },
     "metadata": {
      "needs_background": "light"
     },
     "output_type": "display_data"
    }
   ],
   "source": [
    "# plot loss\n",
    "plt.plot(history.history['loss'])\n",
    "plt.plot(history.history['val_loss'])\n",
    "plt.title('model loss')\n",
    "plt.ylabel('loss')\n",
    "plt.xlabel('epoch')\n",
    "plt.legend(['train', 'test'], loc='upper left')\n",
    "plt.show()"
   ]
  },
  {
   "cell_type": "markdown",
   "id": "c4e1fbca",
   "metadata": {},
   "source": [
    "## Evaluate"
   ]
  },
  {
   "cell_type": "code",
   "execution_count": 15,
   "id": "6e49bc66",
   "metadata": {},
   "outputs": [
    {
     "name": "stdout",
     "output_type": "stream",
     "text": [
      "183/183 [==============================] - 2s 10ms/step - loss: 0.3651 - accuracy: 0.9092\n",
      "Test error: 0.3651139438152313, Test accuracy: 0.909200131893158\n"
     ]
    }
   ],
   "source": [
    "test_error, test_accuracy = model.evaluate(X_test, y_test)\n",
    "print(f\"Test error: {test_error}, Test accuracy: {test_accuracy}\")"
   ]
  },
  {
   "cell_type": "markdown",
   "id": "f7b535c6",
   "metadata": {},
   "source": [
    "## Save model"
   ]
  },
  {
   "cell_type": "code",
   "execution_count": 16,
   "id": "44818b16",
   "metadata": {},
   "outputs": [],
   "source": [
    "model_path = 'model.h5'\n",
    "model.save(model_path)"
   ]
  },
  {
   "cell_type": "code",
   "execution_count": 17,
   "id": "10665d1f",
   "metadata": {},
   "outputs": [
    {
     "name": "stdout",
     "output_type": "stream",
     "text": [
      "Collecting package metadata (current_repodata.json): done\n",
      "Solving environment: done\n",
      "\n",
      "## Package Plan ##\n",
      "\n",
      "  environment location: /home/karol/anaconda3/envs/aws\n",
      "\n",
      "  added / updated specs:\n",
      "    - flask\n",
      "\n",
      "\n",
      "The following packages will be downloaded:\n",
      "\n",
      "    package                    |            build\n",
      "    ---------------------------|-----------------\n",
      "    flask-2.0.3                |     pyhd3eb1b0_0          70 KB  anaconda\n",
      "    itsdangerous-2.0.1         |     pyhd3eb1b0_0          18 KB  anaconda\n",
      "    ------------------------------------------------------------\n",
      "                                           Total:          88 KB\n",
      "\n",
      "The following NEW packages will be INSTALLED:\n",
      "\n",
      "  flask              anaconda/noarch::flask-2.0.3-pyhd3eb1b0_0\n",
      "  itsdangerous       anaconda/noarch::itsdangerous-2.0.1-pyhd3eb1b0_0\n",
      "\n",
      "The following packages will be SUPERSEDED by a higher-priority channel:\n",
      "\n",
      "  ca-certificates    conda-forge::ca-certificates-2022.5.1~ --> anaconda::ca-certificates-2022.4.26-h06a4308_0\n",
      "  certifi            conda-forge::certifi-2022.5.18.1-py39~ --> anaconda::certifi-2021.10.8-py39h06a4308_2\n",
      "  openssl            conda-forge::openssl-1.1.1o-h166bdaf_0 --> anaconda::openssl-1.1.1n-h7f8727e_0\n",
      "\n",
      "\n",
      "\n",
      "Downloading and Extracting Packages\n",
      "flask-2.0.3          | 70 KB     | ##################################### | 100% \n",
      "itsdangerous-2.0.1   | 18 KB     | ##################################### | 100% \n",
      "Preparing transaction: done\n",
      "Verifying transaction: done\n",
      "Executing transaction: done\n"
     ]
    }
   ],
   "source": [
    "! conda install -c anaconda flask  -y"
   ]
  },
  {
   "cell_type": "code",
   "execution_count": 1,
   "id": "f2d4c264",
   "metadata": {},
   "outputs": [
    {
     "name": "stdout",
     "output_type": "stream",
     "text": [
      "Collecting package metadata (current_repodata.json): done\n",
      "Solving environment: failed with initial frozen solve. Retrying with flexible solve.\n",
      "Solving environment: failed with repodata from current_repodata.json, will retry with next repodata source.\n",
      "Collecting package metadata (repodata.json): done\n",
      "Solving environment: failed with initial frozen solve. Retrying with flexible solve.\n",
      "Solving environment: - ^C\n",
      "failed\n",
      "\n",
      "CondaError: KeyboardInterrupt\n",
      "\n"
     ]
    }
   ],
   "source": [
    "! conda install -c conda-forge uwsgi -y"
   ]
  },
  {
   "cell_type": "code",
   "execution_count": null,
   "id": "0a3168cd",
   "metadata": {},
   "outputs": [],
   "source": []
  }
 ],
 "metadata": {
  "kernelspec": {
   "display_name": "Python 3 (ipykernel)",
   "language": "python",
   "name": "python3"
  },
  "language_info": {
   "codemirror_mode": {
    "name": "ipython",
    "version": 3
   },
   "file_extension": ".py",
   "mimetype": "text/x-python",
   "name": "python",
   "nbconvert_exporter": "python",
   "pygments_lexer": "ipython3",
   "version": "3.9.12"
  }
 },
 "nbformat": 4,
 "nbformat_minor": 5
}
